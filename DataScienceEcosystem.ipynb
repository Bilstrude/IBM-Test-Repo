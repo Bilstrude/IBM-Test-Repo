{
  "nbformat": 4,
  "nbformat_minor": 0,
  "metadata": {
    "colab": {
      "provenance": [],
      "toc_visible": true,
      "authorship_tag": "ABX9TyMfNSJdEZHzH4k5MjU+TRn1",
      "include_colab_link": true
    },
    "kernelspec": {
      "name": "python3",
      "display_name": "Python 3"
    },
    "language_info": {
      "name": "python"
    }
  },
  "cells": [
    {
      "cell_type": "markdown",
      "metadata": {
        "id": "view-in-github",
        "colab_type": "text"
      },
      "source": [
        "<a href=\"https://colab.research.google.com/github/Bilstrude/IBM-Test-Repo/blob/main/DataScienceEcosystem.ipynb\" target=\"_parent\"><img src=\"https://colab.research.google.com/assets/colab-badge.svg\" alt=\"Open In Colab\"/></a>"
      ]
    },
    {
      "cell_type": "markdown",
      "source": [
        "# Data Science Tools and Ecosystem\n",
        "\n"
      ],
      "metadata": {
        "id": "hIa92P63XqhL"
      }
    },
    {
      "cell_type": "markdown",
      "source": [
        "**Objectives**:\n",
        "* List popular languages for Data Science.\n",
        "* Popular Data Science Languages\n",
        "* Popular Data SCience Libraries in R and Python\n"
      ],
      "metadata": {
        "id": "6WZv15I34FND"
      }
    },
    {
      "cell_type": "code",
      "source": [
        "# In this notebook, Data Science Tools and Ecosystem are summarized.\n"
      ],
      "metadata": {
        "collapsed": true,
        "id": "DzqLGKMYrzoP"
      },
      "execution_count": 22,
      "outputs": []
    },
    {
      "cell_type": "markdown",
      "source": [],
      "metadata": {
        "id": "KXTSBg8htStW"
      }
    },
    {
      "cell_type": "code",
      "source": [],
      "metadata": {
        "id": "v47ADBdO4LPB"
      },
      "execution_count": null,
      "outputs": []
    },
    {
      "cell_type": "markdown",
      "source": [
        "##### Some of the popular languages that Data Scientists use are:\n",
        " 1.Python   \n",
        " 2.SQL   \n",
        " 3.R"
      ],
      "metadata": {
        "id": "TQfm6boTsnXl"
      }
    },
    {
      "cell_type": "markdown",
      "source": [
        "#Some of the commonly used libraries used by Data Scientists include:\n",
        "#R\n",
        "1.dplyer\n",
        "\n",
        "2.ggplot\n",
        "\n",
        "3.shiny\n",
        "\n",
        "Python\n",
        "1. NumPy\n",
        "NumPy is a free Python software library for numerical computing on data that can be in the form of large arrays and multi-dimensional matrices. These multidimensional matrices are the main objects in NumPy where their dimensions are called axes and the number of axes is called a rank.\n",
        "\n",
        "Key Features:\n",
        "\n",
        "N-dimensional array objects\n",
        "Broadcasting functions\n",
        "Linear algebra, Fourier transforms, and random number capabilities\n",
        "2. Pandas\n",
        "Pandas is one of the best libraries for Python, which is a free software library for data analysis and data handling. In short, Pandas is perfect for quick and easy data manipulation, data aggregation, reading, and writing the data and data visualization.\n",
        "\n",
        "Key Features:\n",
        "\n",
        "DataFrame manipulation\n",
        "Grouping, joining, and merging datasets\n",
        "Time series data handling\n",
        "Data cleaning and wrangling\n",
        "3. Dask\n",
        "Dask is an open-source Python library designed to scale up computations for handling large datasets. It provides dynamic parallelism, enabling computations to be distributed across multiple cores or machines. This is where Dask, a parallel computing library in Python, shines by providing scalable solutions for big data processing.\n",
        "\n",
        "Key Features:\n",
        "\n",
        "Scalable parallel collections (DataFrame, Array)\n",
        "Works with Pandas and NumPy for distributed processing\n",
        "Built for multi-core machines and cloud computing\n",
        "4. Vaex\n",
        "Vaex is a Python library designed for fast and efficient data manipulation, especially when dealing with massive datasets. Unlike traditional libraries like pandas, Vaex focuses on out-of-core data processing, allowing users to handle billions of rows of data with minimal memory consumption.\n",
        "\n",
        "Key Features:\n",
        "\n",
        "Handles billions of rows with minimal memory\n",
        "Lazy loading for fast computations\n",
        "Built-in visualization tools\n",
        "Python Libaries for Data Visualization\n",
        "5. Matplotlib\n",
        "Matplotlib is one of the oldest and most widely used libraries for creating static, animated, and interactive visualizations in Python. Matplotlib can be used in Python scripts, the Python and IPython shells, the Jupyter Notebook, web application servers, etc.\n",
        "\n",
        "Key Features:\n",
        "\n",
        "Support for 2D plotting\n",
        "Extensive charting options (line plots, histograms, scatter plots, etc.)\n",
        "Fully customizable plots\n",
        "6. Seaborn\n",
        "Seaborn is a powerful Python data visualization library built on top of Matplotlib, designed to make it easier to create attractive and informative statistical graphics. Seaborn is widely used by data scientists due to its ease of use, intuitive syntax, and integration with Pandas, which allows seamless plotting directly from DataFrames.\n",
        "\n",
        "Key Features:\n",
        "\n",
        "High-level interface for drawing statistical plots\n",
        "Supports themes for better aesthetics\n",
        "Integrates with Pandas DataFrames\n",
        "7. Plotly\n",
        "Plotly is a dynamic visualization library that supports interactive plots in web applications. Unlike traditional static visualization libraries, Plotly allows you to build interactive charts that can be embedded in web applications, dashboards, or shared as standalone HTML files.\n",
        "\n",
        "Key Features:\n",
        "\n",
        "Interactive, web-based visualizations\n",
        "3D plotting and mapping\n",
        "Integrates with Dash for interactive dashboards\n",
        "8. Altair\n",
        "Altair is a powerful Python library designed for declarative statistical visualization. With its simple syntax and integration with Pandas DataFrames, Altair makes it easy to create visually appealing and informative plots that convey complex data insights effectively.\n",
        "\n",
        "Key Features:\n",
        "\n",
        "Simple, intuitive syntax for chart creation\n",
        "Works with Pandas DataFrames\n",
        "Fully interactive and customizable plots\n",
        "9. Bokeh\n",
        "Bokeh is a powerful Python library designed to create highly interactive visualizations that can be easily integrated into web applications. Bokeh allows developers to build rich, web-based visualizations that can respond to user inputs, making it a popular choice for creating dashboards and data exploration tools.\n",
        "\n",
        "Key Features:\n",
        "\n",
        "Interactive dashboards and plots\n",
        "Real-time streaming and updating of data\n",
        "Scalable for large datasets\n",
        "Python Libraries for Machine Learning\n",
        "10. Scikit-learn\n",
        "Scikit-learn is among those libraries for Python that is a free, software library for Machine Learning coding primarily in the Python programming language.  While Scikit-learn is written mainly in Python, it has also used Cython to write some core algorithms in order to improve performance.\n",
        "\n",
        "Key Features:\n",
        "\n",
        "Implements regression, classification, clustering, and more\n",
        "Cross-validation, hyperparameter tuning, and pipeline building\n",
        "Easy integration with NumPy and Pandas.\n",
        "11. XGBoost\n",
        "XGBoost (Extreme Gradient Boosting) is a powerful and widely-used machine learning library that provides an efficient and scalable implementation of gradient boosting. XGBoost has gained immense popularity in the data science community for its performance in predictive modeling tasks, particularly in structured or tabular data scenarios.\n",
        "\n",
        "Key Features:\n",
        "\n",
        "Efficient, scalable implementation of gradient boosting trees\n",
        "Regularization techniques to prevent overfitting\n",
        "Cross-platform support (Python, R, C++)\n",
        "12. LightGBM\n",
        "LightGBM (Light Gradient Boosting Machine) is another gradient boosting framework designed to provide high performance while consuming low memory. Developed by Microsoft, it is optimized for large datasets and high-dimensional data.\n",
        "\n",
        "Key Features:\n",
        "\n",
        "Support for large datasets\n",
        "Fast, accurate, and scalable\n",
        "Handles missing data and categorical features effectively.\n",
        "13. CatBoost\n",
        "CatBoost (Categorical Boosting) is a high-performance gradient boosting library developed by Yandex, specifically designed to work with categorical features natively.\n",
        "\n",
        "Key Features:\n",
        "Handles categorical data without preprocessing\n",
        "Avoids overfitting with regularization techniques\n",
        "High accuracy and performance\n",
        "\n",
        "14. PyCaret\n",
        "PyCaret is an open-source machine learning library that simplifies the process of building, training, and deploying machine learning models. PyCaret offers a low-code solution that streamlines the entire machine learning workflow.\n",
        "\n",
        "Key Features:\n",
        "\n",
        "Low-code solution for automating ML workflows\n",
        "Easy model comparison and tuning\n",
        "Supports end-to-end ML pipelines\n",
        "Python Libraries for Deep Learning\n",
        "15. TensorFlow\n",
        "TensorFlow is a free end-to-end open-source platform that has a wide variety of tools, libraries, and resources for Artificial Intelligence. You can easily build and train Machine Learning models with high-level APIs such as Keras using TensorFlow. It also provides multiple levels of abstraction so you can choose the option you need for your model.\n",
        "\n",
        "Key Features:\n",
        "\n",
        "Support for distributed training\n",
        "High-level APIs (Keras) for quick prototyping\n",
        "Deployable on multiple platforms, including mobile and cloud\n",
        "16. Keras\n",
        "Keras is a free and open-source neural network library written in Python. Keras has multiple tools that make it easier to work with different types of image and textual data for coding in deep neural networks. It also has various implementations of the building blocks for neural networks such as layers, optimizers, activation functions, objectives, etc.\n",
        "\n",
        "Key Features:\n",
        "\n",
        "Simplified model building process\n",
        "Compatible with TensorFlow, Theano, and CNTK\n",
        "Easy-to-use API for deep learning beginners\n",
        "17. PyTorch\n",
        "PyTorch is an open-source deep learning framework that has gained immense popularity among researchers and developers due to its flexibility and speed. PyTorch offers an intuitive interface and dynamic computation capabilities, making it a go-to choice for many machine learning practitioners.\n",
        "\n",
        "Key Features:\n",
        "\n",
        "Dynamic computational graph\n",
        "Strong community support and active development\n",
        "Great for research and production-level applications\n",
        "18. MXNet\n",
        "MXNet is a powerful and scalable deep learning framework designed to offer both efficiency and flexibility for developers and researchers. Developed by the Apache Software Foundation, MXNet supports a range of applications, from simple neural networks to complex deep learning models, making it a versatile choice in the AI.\n",
        "\n",
        "Key Features:\n",
        "\n",
        "Hybrid programming support\n",
        "Distributed training across multiple GPUs\n",
        "Lightweight and highly efficient\n",
        "Python Libraries for Natural Language Processing\n",
        "19. Hugging Face Transformers\n",
        "Hugging Face's Transformers library has significantly transformed the landscape of Natural Language Processing (NLP) by offering a wide array of pre-trained models tailored for various tasks, including text generation, translation, and more.\n",
        "\n",
        "Key Features:\n",
        "\n",
        "Access to state-of-the-art models like BERT, GPT, etc.\n",
        "Easy-to-use API for fine-tuning models\n",
        "Active community and frequent updates\n",
        "20. SpaCy\n",
        "SpaCy is a robust NLP library that excels in production environments, designed for efficiently processing large volumes of text. Its emphasis on speed and usability makes it a preferred choice for many developers working on NLP applications. The SpaCy library includes pre-trained models for multiple languages, making it easy to implement multilingual applications.\n",
        "\n",
        "Key Features:\n",
        "\n",
        "Efficient pipeline for tokenization, named entity recognition, and parsing\n",
        "Pre-trained models for several languages\n",
        "Integrates with deep learning libraries\n",
        "21. Fairseq\n",
        "Fairseq is a powerful toolkit developed by Facebook AI designed to handle sequence modeling tasks, particularly in the context of multilingual applications. As the demand for models that can operate across multiple languages grows, Fairseq provides state-of-the-art capabilities for text translation and speech recognition.\n",
        "\n",
        "Key Features:\n",
        "\n",
        "State-of-the-art models for text translation and speech recognition\n",
        "Supports both supervised and unsupervised learning\n",
        "Built by Facebook AI for research and production\n",
        "Real-Time and Edge Computing\n",
        "22. Faust\n",
        "As real-time data processing grows in importance, Faust offers a Python stream processing library for high-throughput systems. It is a Python stream processing library that focuses on high-throughput systems, enabling efficient handling of real-time data streams.\n",
        "\n",
        "Key Features:\n",
        "\n",
        "Efficient stream processing\n",
        "Distributed event-driven programming\n",
        "Supports real-time analytics for big data\n",
        "23. TensorFlow Lite\n",
        "TensorFlow Lite enables machine learning models to run on edge devices, making it increasingly critical for mobile and IoT applications. This capability is increasingly important as machine learning applications expand into mobile and Internet of Things (IoT) environments.\n",
        "\n",
        "Key Features:\n",
        "\n",
        "Optimized for mobile and IoT devices\n",
        "Low-latency inference\n",
        "Supports quantized models for efficient performance\n",
        "Python Libraries in Data Engineering and ETL\n",
        "Apache Airflow\n",
        "Apache Airflow continues to dominate for building and managing complex data pipelines. Apache Airflow is rich feature set makes it an invaluable asset for data engineers looking to automate workflows.\n",
        "\n",
        "Key Features:\n",
        "\n",
        "Scheduling and monitoring of workflows\n",
        "Extensible with various plugins\n",
        "Scalable for large workflows\n",
        "PySpark\n",
        "PySpark remains a key player for processing large datasets in a distributed environment. It combines the scalability and efficiency of Spark with the ease of use provided by Python, making it a popular choice among data engineers and data scientists.\n",
        "\n",
        "Key Features:\n",
        "\n",
        "Efficient distributed data processing\n",
        "Integration with Spark’s machine learning library (MLlib)\n",
        "Suitable for both big data and real-time data processing.\n",
        "\n",
        "| Data Science Tools |\n",
        "| __________________ |\n",
        "\n"
      ],
      "metadata": {
        "id": "UQDLUEM0t0rn"
      }
    },
    {
      "cell_type": "code",
      "source": [
        "| Data Science Tools |\n",
        "| __________________ |"
      ],
      "metadata": {
        "colab": {
          "base_uri": "https://localhost:8080/",
          "height": 106
        },
        "id": "8R-S5Z5NtTlR",
        "outputId": "ebfeed3f-4113-4cc0-8e17-2e04c89da42e"
      },
      "execution_count": 23,
      "outputs": [
        {
          "output_type": "error",
          "ename": "SyntaxError",
          "evalue": "invalid syntax (ipython-input-23-3481267467.py, line 1)",
          "traceback": [
            "\u001b[0;36m  File \u001b[0;32m\"/tmp/ipython-input-23-3481267467.py\"\u001b[0;36m, line \u001b[0;32m1\u001b[0m\n\u001b[0;31m    | Data Science Tools |\u001b[0m\n\u001b[0m    ^\u001b[0m\n\u001b[0;31mSyntaxError\u001b[0m\u001b[0;31m:\u001b[0m invalid syntax\n"
          ]
        }
      ]
    },
    {
      "cell_type": "markdown",
      "source": [],
      "metadata": {
        "id": "oXf42W42y5Zd"
      }
    },
    {
      "cell_type": "markdown",
      "source": [
        "#\n",
        "| Data Science Tools |\n",
        "| __________________ |"
      ],
      "metadata": {
        "id": "EUuJ8WtoxVQR"
      }
    },
    {
      "cell_type": "markdown",
      "metadata": {
        "id": "1f228d07"
      },
      "source": [
        "\n",
        "```\n",
        "\n",
        "| Data Science Tools |\n",
        "| __________________ |\n",
        "| Jupyter Labs       |\n",
        "| R-Studio           |\n",
        "| Google Colab       |\n",
        "| __________________ |\n",
        "\n",
        "\n",
        "\n",
        "---\n",
        "\n"
      ]
    },
    {
      "cell_type": "code",
      "source": [
        "###Below are a few examples of evaluating arithmetic expressions in Python\n"
      ],
      "metadata": {
        "id": "Le9okOC9xqR2"
      },
      "execution_count": 24,
      "outputs": []
    },
    {
      "cell_type": "markdown",
      "source": [],
      "metadata": {
        "id": "zvCRfZTv0N9d"
      }
    },
    {
      "cell_type": "markdown",
      "source": [
        "###Below are a few examples of evaluating arithmetic expressions in Python\n",
        "\n",
        "##### This a simple arithmetic expression to mutiply then add integers.\n",
        "(3*4)+5."
      ],
      "metadata": {
        "id": "QjLrMxpExp4s"
      }
    },
    {
      "cell_type": "code",
      "source": [
        "###"
      ],
      "metadata": {
        "id": "WJfzMtTA0eLH"
      },
      "execution_count": null,
      "outputs": []
    },
    {
      "cell_type": "markdown",
      "source": [
        "#This a simple arithmetic expression to mutiply then add integers.\n"
      ],
      "metadata": {
        "id": "MnPbPHjS1Z9K"
      }
    },
    {
      "cell_type": "code",
      "source": [
        "(3*4)+5"
      ],
      "metadata": {
        "id": "5byQM8rt1ZjL"
      },
      "execution_count": null,
      "outputs": []
    },
    {
      "cell_type": "markdown",
      "source": [],
      "metadata": {
        "id": "S0URxOhQ1wJt"
      }
    },
    {
      "cell_type": "code",
      "source": [],
      "metadata": {
        "id": "8XU88Eup1w9C"
      },
      "execution_count": null,
      "outputs": []
    }
  ]
}